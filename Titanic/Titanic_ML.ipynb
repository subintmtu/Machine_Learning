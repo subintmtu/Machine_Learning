{
 "cells": [
  {
   "cell_type": "code",
   "execution_count": 1,
   "metadata": {},
   "outputs": [],
   "source": [
    "%matplotlib inline\n",
    "\n",
    "import pandas as pd\n",
    "import numpy as np\n",
    "import re\n",
    "\n",
    "## Plotting tools, matplotlib and seaborn\n",
    "import matplotlib.pyplot as plt\n",
    "import seaborn as sns\n",
    "\n",
    "## Imputation strategies from Kaggle - Intermediate machine learning course\n",
    "## https://www.kaggle.com/alexisbcook/pipelines\n",
    "from sklearn.compose import ColumnTransformer\n",
    "from sklearn.pipeline import Pipeline\n",
    "from sklearn.impute import SimpleImputer\n",
    "from sklearn.preprocessing import LabelEncoder"
   ]
  },
  {
   "cell_type": "code",
   "execution_count": 2,
   "metadata": {},
   "outputs": [],
   "source": [
    "## Read train and test dataset\n",
    "train = pd.read_csv('train.csv')\n",
    "test = pd.read_csv('test.csv')\n",
    "\n",
    "## Get information of the data count and type\n",
    "# train.info()"
   ]
  },
  {
   "cell_type": "code",
   "execution_count": 3,
   "metadata": {},
   "outputs": [
    {
     "data": {
      "text/plain": [
       "Text(0, 0.5, 'Count (females)')"
      ]
     },
     "execution_count": 3,
     "metadata": {},
     "output_type": "execute_result"
    },
    {
     "data": {
      "image/png": "[encoded data removed]",
      "text/plain": [
       "<Figure size 864x288 with 2 Axes>"
      ]
     },
     "metadata": {
      "needs_background": "light"
     },
     "output_type": "display_data"
    }
   ],
   "source": [
    "## Describe numerical data\n",
    "\n",
    "# train.info()  # Describe columns, entries, type of data\n",
    "# train.describe() # Descriptive first order statistics\n",
    "# train.nunique() # Describe unique values?\n",
    "# train.isnull().sum() # Number of missing values\n",
    "\n",
    "# Looking for the unique values for each feature \n",
    "# train[\"Age\"].value_counts()\n",
    "# train[\"SibSp\"].value_counts()\n",
    "# train[\"Parch\"].value_counts()\n",
    "# train[\"Sex\"].value_counts()\n",
    "\n",
    "train[\"Title\"] = (train['Name'].str.split(',').apply(lambda x : x[1])).str.split('.').apply(lambda x : x[0])\n",
    "train['AgeRange'] = train.apply(lambda row:np.floor(row['Age']/10)*10, axis=1)\n",
    "# train = train[train.Age <= 335]\n",
    "# train[(train.Sex == 'female') & (train.Survived == 1)]\n",
    "\n",
    "# sns.scatterplot(x=\"Age\", y=\"Pclass\", hue=\"Survived\", data=train[(train.Sex == 'male')])\n",
    "# sns.scatterplot(x=\"Age\", y=\"Title\", hue=\"Survived\", data=train[(train.Sex == 'female')])\n",
    "\n",
    "# sns.distplot(train.Age[train.Sex =='female'].dropna())\n",
    "# train[\"Title\"].value_counts()\n",
    "# sns.distplot(train.Age[(train.Survived == 1) & (train.Sex == 'female') & (train.Title == 'Miss')].dropna())\n",
    "\n",
    "\n",
    "# g = sns.FacetGrid(train[(train.Sex=='male')], row='Survived', col='Pclass')\n",
    "# g.map(sns.distplot, \"Age\")\n",
    "# g.set(xlim=(0, 40))\n",
    "# plt.show()\n",
    "\n",
    "# h = sns.heatmap(train.corr(), annot=True, fmt=\".2f\")\n",
    "# h.set(xlim=(0, None))\n",
    "# plt.show()\n",
    "\n",
    "\n",
    "# ax = sns.catplot(x='Pclass',kind='count',data=train[train.Sex=='female'])\n",
    "# f, axes = plt.subplots(1, 2, figsize = (12,4))\n",
    "# g = sns.catplot(x='Pclass',kind='count', hue='Sex',data=train, alpha =0.25)\n",
    "# g = sns.catplot(x='Pclass',kind='count', hue='Sex',data=train[(train.Survived == 1)], alpha =0.75)\n",
    "# ax.fig.autofmt_xdate()\n",
    "# hatches = ['-', '+', 'x', '\\\\', '*', 'o']\n",
    "# sex_palette = ['blue', 'red']\n",
    "# sns.set_palette(sex_palette)\n",
    "\n",
    "# There is a serious disadvantage, the data being plotted is of the order male, female, female and male. \n",
    "# Therefore the default comparison comes between total males and total surviving females.\n",
    "# Hence adopted the count plot categorizing the male and female survival rates separately across the classes\n",
    "# ax = sns.countplot(x=\"Pclass\", hue=\"Sex\", data=train, alpha= 0.3)\n",
    "# ax = sns.countplot(x=\"Pclass\", hue=\"Sex\", data=train[(train.Survived==1)], alpha= 0.5, edgecolor=(0,0,0))\n",
    "\n",
    "f, axes = plt.subplots(1, 2, figsize = (12,4))\n",
    "g = sns.countplot(x=\"Pclass\", data=train[(train.Sex=='male')], alpha= 0.3, color='blue', ax=axes[0])\n",
    "g = sns.countplot(x=\"Pclass\", data=train[(train.Survived==1) & (train.Sex=='male')], alpha= 0.5, edgecolor=(0,0,0), color='blue', ax=axes[0])\n",
    "g.set_ylabel(\"Count (males)\")\n",
    "h = sns.countplot(x=\"Pclass\", data=train[(train.Sex=='female')], alpha= 0.3, color='red', ax=axes[1])\n",
    "h = sns.countplot(x=\"Pclass\", data=train[(train.Survived==1) & (train.Sex=='female')], alpha= 0.5, edgecolor=(0,0,0), color='red', ax=axes[1])\n",
    "h.set_ylabel(\"Count (females)\")"
   ]
  },
  {
   "cell_type": "code",
   "execution_count": 4,
   "metadata": {},
   "outputs": [],
   "source": [
    "# Male survival rates\n",
    "# train[(train.Sex=='male') & (train.Survived==1)].groupby('Pclass').PassengerId.count()/train[(train.Sex=='male')].groupby('Pclass').PassengerId.count()"
   ]
  },
  {
   "cell_type": "code",
   "execution_count": 5,
   "metadata": {},
   "outputs": [],
   "source": [
    "# Female survival rates\n",
    "# train[(train.Sex=='female') & (train.Survived==1)].groupby('Pclass').PassengerId.count()/train[(train.Sex=='female')].groupby('Pclass').PassengerId.count()"
   ]
  },
  {
   "cell_type": "markdown",
   "metadata": {},
   "source": [
    "#### Explanation\n",
    "In the figure, blue represents males and orange represent females, the light shades represent the total people in each class and dark shade with black edges to denote survival. From figure and the previous code blocks and the figure, we can see the percentage of people surviving decreases from first to third class. Also  based on sex, females have a higher percentage of survival."
   ]
  },
  {
   "cell_type": "code",
   "execution_count": 6,
   "metadata": {},
   "outputs": [
    {
     "data": {
      "image/png": "[encoded data removed]",
      "text/plain": [
       "<Figure size 864x288 with 2 Axes>"
      ]
     },
     "metadata": {
      "needs_background": "light"
     },
     "output_type": "display_data"
    }
   ],
   "source": [
    "f, axes = plt.subplots(1, 2, figsize = (12,4))\n",
    "age_range = range(0,120,5)\n",
    "\n",
    "# Female age distribution count plot\n",
    "g = sns.distplot(train.Age[train.Sex =='female'].dropna(),bins=age_range, kde = False, hist_kws={\"histtype\": \"step\", \"linewidth\": 3, \"alpha\": 1, \"color\": \"k\"},ax=axes[0])\n",
    "g =sns.distplot(train.Age[(train.Sex =='female') & (train.Survived==1)].dropna(),bins=age_range,kde=False, hist_kws={\"alpha\": 0.5},ax=axes[0], color='red')\n",
    "g.set_ylabel(\"Count (females)\")\n",
    "g.set_xlim([0,100])\n",
    "g.set_ylim([0,50])\n",
    "\n",
    "# Male age distribution count plot\n",
    "h = sns.distplot(train.Age[train.Sex =='male'].dropna(),bins=age_range, kde = False, hist_kws={\"histtype\": \"step\", \"linewidth\": 3, \"alpha\": 1, \"color\": \"k\"},ax=axes[1])\n",
    "h = sns.distplot(train.Age[(train.Sex =='male') & (train.Survived==1)].dropna(),bins=age_range, kde=False, hist_kws={\"alpha\": 0.5}, ax=axes[1], color ='blue')\n",
    "h.set_ylabel(\"Count (males)\")\n",
    "h.set_xlim([0,100])\n",
    "h.set_ylim([0,80])\n",
    "f.tight_layout()"
   ]
  },
  {
   "cell_type": "code",
   "execution_count": 7,
   "metadata": {},
   "outputs": [],
   "source": [
    "### Rationale is to impute age data based on the title of the person\n",
    "\n",
    "# sns.catplot(x='AgeRange',kind='count', hue='Title',data=train[train.Sex=='male'], alpha =1.0)\n",
    "# sns.catplot(x='AgeRange',kind='count', hue='Title',data=train[train.Sex=='female'], alpha =1.0)\n",
    "\n",
    "# Impute_Age = train.groupby(['Title']).Age.median()\n",
    "# Impute_Age = Impute_Age.to_dict()\n",
    "# train.Age[train.Title==' Mr'] = train.Age[train.Title==' Mr'].fillna(train.Title.map(Impute_Age))\n",
    "\n",
    "# train.Age.isnull().groupby(train.Title).sum()\n",
    "# train.SibSp.groupby(train.AgeRange).sum()\n",
    "# train.Parch.groupby(train.AgeRange).sum()\n",
    "\n",
    "# train.Age.isnull().sum()\n",
    "\n",
    "# train[train.Survived == 1].groupby(train.Title).PassengerId.count()\n",
    "# train[train.Survived == 0].groupby(train.Title).PassengerId.count()\n",
    "\n",
    "# train[train.Survived == 1].groupby(train.AgeRange).PassengerId.count()\n",
    "# train[train.Survived == 0].groupby(train.AgeRange).PassengerId.count()"
   ]
  },
  {
   "cell_type": "code",
   "execution_count": 8,
   "metadata": {},
   "outputs": [],
   "source": [
    "### Shows how much data is missing from features, it also shows the feature instead of train.describe function\n",
    "# train.isnull().sum() \n",
    "\n",
    "# Search for data\n",
    "# train[train['Embarked'].str.contains('Q')]\n",
    "# train[train.isna().any(axis=1)]\n",
    "# train_x[\"Embarked\"].value_counts()\n",
    "# name.value_counts()"
   ]
  },
  {
   "cell_type": "code",
   "execution_count": 9,
   "metadata": {},
   "outputs": [],
   "source": [
    "# Check if the test data has same missing features, the imputation strategy is based on the previous and current output\n",
    "# test.isnull().sum()"
   ]
  },
  {
   "cell_type": "code",
   "execution_count": 10,
   "metadata": {},
   "outputs": [],
   "source": [
    "train_x = train.drop(columns='Survived')\n",
    "train_y = train['Survived']"
   ]
  },
  {
   "cell_type": "code",
   "execution_count": 11,
   "metadata": {},
   "outputs": [
    {
     "data": {
      "text/plain": [
       "['Age', 'Cabin', 'Embarked', 'AgeRange']"
      ]
     },
     "execution_count": 11,
     "metadata": {},
     "output_type": "execute_result"
    }
   ],
   "source": [
    "train_x.columns[train_x.isnull().any()].tolist()"
   ]
  },
  {
   "cell_type": "markdown",
   "metadata": {},
   "source": [
    "The following part of the code is to evaluate various imputation strategies used in machine learning"
   ]
  },
  {
   "cell_type": "code",
   "execution_count": 12,
   "metadata": {},
   "outputs": [],
   "source": [
    "impute_column = [col for col in train_x.columns if train_x[col].isnull().any()]\n",
    "numerical_cols = [cname for cname in train_x.columns if train_x[cname].dtype in ['int64', 'float64']]\n",
    "# train_x = dataImputationDropColumn(train_x,impute_column)\n",
    "categorical_cols = [cname for cname in train_x.columns if train_x[cname].dtype in ['object']]"
   ]
  },
  {
   "cell_type": "code",
   "execution_count": 13,
   "metadata": {},
   "outputs": [],
   "source": [
    "# Preprocessing for numerical data\n",
    "# Strategy : mean, median, most_frequent(string, numeric), constant (string, numeric)\n",
    "numerical_transformer = SimpleImputer(strategy='median')\n",
    "\n",
    "# Preprocessing for categorical data\n",
    "LE = LabelEncoder()"
   ]
  },
  {
   "cell_type": "code",
   "execution_count": 14,
   "metadata": {},
   "outputs": [
    {
     "data": {
      "text/plain": [
       "PassengerId      0\n",
       "Pclass           0\n",
       "Name             0\n",
       "Sex              0\n",
       "Age            177\n",
       "SibSp            0\n",
       "Parch            0\n",
       "Ticket           0\n",
       "Fare             0\n",
       "Cabin          687\n",
       "Embarked         2\n",
       "Title            0\n",
       "AgeRange       177\n",
       "dtype: int64"
      ]
     },
     "execution_count": 14,
     "metadata": {},
     "output_type": "execute_result"
    }
   ],
   "source": [
    "train_x.isnull().sum()"
   ]
  },
  {
   "cell_type": "code",
   "execution_count": 15,
   "metadata": {},
   "outputs": [],
   "source": [
    "# train_x[\"Name\"] = (train['Name'].str.split(',').apply(lambda x : x[1])).str.split('.').apply(lambda x : x[0])\n",
    "train_x[\"Ticket\"] = train[\"Ticket\"].str.extract('(\\d+)')\n",
    "train_x.Ticket = train_x.Ticket.astype('float')\n",
    "train_x.Age = train_x.Age.fillna(value=train_x.Age.mean())\n",
    "train_x.Ticket = train_x.Ticket.fillna(value=train_x.Ticket.median())\n",
    "train_x.Embarked = train_x.Embarked.fillna(value=train_x.Embarked.mode()[0])\n",
    "\n",
    "train_x.Title = LE.fit_transform(train_x.Title)\n",
    "# train_x.Name = LE.fit_transform(train_x.Name)\n",
    "train_x.Sex = LE.fit_transform(train_x.Sex)\n",
    "train_x.Embarked = LE.fit_transform(train_x.Embarked)\n",
    "\n",
    "## Drop the unnecessary columns, Cabin has more than 25% of data missing and Age Range has infact decreased the performance\n",
    "if \"Cabin\" in train_x :\n",
    "    train_x = train_x.drop(columns = [\"Cabin\"])\n",
    "if \"AgeRange\" in train_x :\n",
    "    train_x = train_x.drop(columns = [\"AgeRange\"])\n",
    "if \"Title\" in train_x :\n",
    "    train_x = train_x.drop(columns = [\"Name\"])\n",
    "\n"
   ]
  },
  {
   "cell_type": "code",
   "execution_count": 16,
   "metadata": {},
   "outputs": [],
   "source": [
    "# Check if any rows are having nan\n",
    "# train_x.isnull().sum()"
   ]
  },
  {
   "cell_type": "code",
   "execution_count": 17,
   "metadata": {},
   "outputs": [],
   "source": [
    "from sklearn.metrics import accuracy_score\n",
    "from sklearn.model_selection import train_test_split\n",
    "\n",
    "X_train, X_valid, y_train, y_valid = train_test_split(train_x, train_y, train_size=0.8, test_size=0.2,\n",
    "                                                      random_state=0)\n",
    "def score_model(model, X_t=X_train, X_v=X_valid, y_t=y_train, y_v=y_valid):\n",
    "    model.fit(X_t, y_t)\n",
    "    preds = model.predict(X_v)\n",
    "#     display(preds)\n",
    "#     pred_cutOFF = 0.50\n",
    "#     preds[preds >= pred_cutOFF] = 1\n",
    "#     preds[preds < pred_cutOFF] = 0\n",
    "    return accuracy_score(y_v, preds)"
   ]
  },
  {
   "cell_type": "code",
   "execution_count": 18,
   "metadata": {},
   "outputs": [],
   "source": [
    "from sklearn.ensemble import RandomForestClassifier\n",
    "from sklearn.ensemble import RandomTreesEmbedding\n",
    "from sklearn.ensemble import GradientBoostingClassifier\n",
    "from sklearn import svm\n",
    "from xgboost import XGBClassifier\n",
    "model_1 =  RandomForestClassifier(n_estimators=250, max_depth=50, random_state=0)\n",
    "model_2 = RandomForestClassifier(n_estimators=10, max_depth=50, random_state=0)\n",
    "model_3 = XGBClassifier(base_score=0.5, colsample_bylevel=1, colsample_bytree=1, gamma=0, learning_rate=0.01, max_delta_step=0, max_depth=500, \n",
    "                        min_child_weight=1, missing=None, n_estimators=1000, nthread=-1, objective='binary:logistic', reg_alpha=0, reg_lambda=1,\n",
    "                        scale_pos_weight=1, seed=0, silent=True, subsample=1)\n",
    "model_4 = GradientBoostingClassifier(loss='exponential', learning_rate=0.1, n_estimators=250, max_depth=4, tol=1e-6)\n",
    "\n",
    "model_5 = svm.SVC(gamma=0.020, C=0.0001)"
   ]
  },
  {
   "cell_type": "code",
   "execution_count": 19,
   "metadata": {},
   "outputs": [
    {
     "data": {
      "text/plain": [
       "0.8044692737430168"
      ]
     },
     "execution_count": 19,
     "metadata": {},
     "output_type": "execute_result"
    }
   ],
   "source": [
    "from sklearn.ensemble import AdaBoostClassifier\n",
    "model_7 = AdaBoostClassifier(n_estimators=1000,learning_rate=0.1)\n",
    "score_model(model_7)"
   ]
  },
  {
   "cell_type": "code",
   "execution_count": 20,
   "metadata": {},
   "outputs": [
    {
     "data": {
      "text/plain": [
       "0.6536312849162011"
      ]
     },
     "execution_count": 20,
     "metadata": {},
     "output_type": "execute_result"
    }
   ],
   "source": [
    "from sklearn.neural_network import MLPClassifier\n",
    "model_6 = MLPClassifier(activation='relu', solver='lbfgs', learning_rate='invscaling', max_iter = 6000)\n",
    "score_model(model_6)"
   ]
  },
  {
   "cell_type": "code",
   "execution_count": 21,
   "metadata": {},
   "outputs": [
    {
     "data": {
      "text/plain": [
       "0.7430167597765364"
      ]
     },
     "execution_count": 21,
     "metadata": {},
     "output_type": "execute_result"
    }
   ],
   "source": [
    "from sklearn.neighbors import KNeighborsClassifier\n",
    "model_8 = KNeighborsClassifier(32)\n",
    "score_model(model_8)"
   ]
  },
  {
   "cell_type": "code",
   "execution_count": 22,
   "metadata": {},
   "outputs": [
    {
     "data": {
      "text/plain": [
       "0.776536312849162"
      ]
     },
     "execution_count": 22,
     "metadata": {},
     "output_type": "execute_result"
    }
   ],
   "source": [
    "from sklearn.discriminant_analysis import LinearDiscriminantAnalysis\n",
    "model_9 = LinearDiscriminantAnalysis()\n",
    "score_model(model_9)"
   ]
  },
  {
   "cell_type": "code",
   "execution_count": 23,
   "metadata": {},
   "outputs": [
    {
     "data": {
      "text/plain": [
       "0.8100558659217877"
      ]
     },
     "execution_count": 23,
     "metadata": {},
     "output_type": "execute_result"
    }
   ],
   "source": [
    "from sklearn.discriminant_analysis import QuadraticDiscriminantAnalysis\n",
    "model_10=QuadraticDiscriminantAnalysis()\n",
    "score_model(model_10)"
   ]
  },
  {
   "cell_type": "code",
   "execution_count": 24,
   "metadata": {},
   "outputs": [
    {
     "data": {
      "text/plain": [
       "0.8324022346368715"
      ]
     },
     "execution_count": 24,
     "metadata": {},
     "output_type": "execute_result"
    }
   ],
   "source": [
    "score_model(model_2)"
   ]
  },
  {
   "cell_type": "code",
   "execution_count": 25,
   "metadata": {},
   "outputs": [
    {
     "data": {
      "text/plain": [
       "0.8659217877094972"
      ]
     },
     "execution_count": 25,
     "metadata": {},
     "output_type": "execute_result"
    }
   ],
   "source": [
    "score_model(model_3)"
   ]
  },
  {
   "cell_type": "code",
   "execution_count": 26,
   "metadata": {},
   "outputs": [
    {
     "data": {
      "text/plain": [
       "0.8547486033519553"
      ]
     },
     "execution_count": 26,
     "metadata": {},
     "output_type": "execute_result"
    }
   ],
   "source": [
    "score_model(model_4)"
   ]
  }
 ],
 "metadata": {
  "kernelspec": {
   "display_name": "Python 3",
   "language": "python",
   "name": "python3"
  },
  "language_info": {
   "codemirror_mode": {
    "name": "ipython",
    "version": 3
   },
   "file_extension": ".py",
   "mimetype": "text/x-python",
   "name": "python",
   "nbconvert_exporter": "python",
   "pygments_lexer": "ipython3",
   "version": "3.7.3"
  }
 },
 "nbformat": 4,
 "nbformat_minor": 2
}
