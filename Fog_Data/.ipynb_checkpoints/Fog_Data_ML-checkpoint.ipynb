{
 "cells": [
  {
   "cell_type": "code",
   "execution_count": 1,
   "metadata": {},
   "outputs": [],
   "source": [
    "import pandas as pd\n",
    "import glob"
   ]
  },
  {
   "cell_type": "markdown",
   "metadata": {},
   "source": [
    "### 1. We need to identify a way to consistently extract features for different cities stored in multiple files.\n",
    "Here, I create a list of files with fog data and extract city file names because fog data files are stored as \"CityName19xx-xxxxFogData.txt\". Inorder to get the city name I extract city name by considering all the string till it encounters first 1"
   ]
  },
  {
   "cell_type": "code",
   "execution_count": 2,
   "metadata": {},
   "outputs": [],
   "source": [
    "fogDataFiles = glob.glob(\"*2016_FogData.txt\")\n",
    "cityNames = []\n",
    "for fileName in fogDataFiles:\n",
    "    cityNames.append(fileName[0:fileName.find('1')])\n",
    "del fogDataFiles"
   ]
  },
  {
   "cell_type": "markdown",
   "metadata": {},
   "source": [
    "### 2. I can create a fileList for different cities <font color = 'red'> and naively removing files with \"xxPercentagexx\" in the  list </font>"
   ]
  },
  {
   "cell_type": "code",
   "execution_count": 152,
   "metadata": {},
   "outputs": [
    {
     "name": "stdout",
     "output_type": "stream",
     "text": [
      "['Bakersfield', 11]\n",
      "['Beale', 11]\n",
      "['Castle', 11]\n",
      "['Fresno', 13]\n",
      "['RedBluff', 13]\n",
      "['Redding', 11]\n",
      "['Sacramento', 13]\n",
      "['Stockton', 11]\n",
      "['TravisAFB', 11]\n"
     ]
    }
   ],
   "source": [
    "dataL = {}\n",
    "for city in cityNames :\n",
    "    fileList = glob.glob(str('*'+ city + '*'))\n",
    "    fileList = [x for x in fileList if (\"Percent\" not in x)]\n",
    "    print([city,len(fileList)])\n",
    "    dataT = {}\n",
    "    for fileName in fileList : \n",
    "\n",
    "        indexNum = 6\n",
    "        if(not fileName.startswith(city)):\n",
    "            varName = fileName[0:fileName.find('_')]\n",
    "        else :\n",
    "            varName = fileName[::-1][0:fileName[::-1].find('_')][::-1][:-4]\n",
    "            if ('Fog' in varName) :\n",
    "                indexNum = 0\n",
    "                if('Mean' in varName):\n",
    "                    varName = fileName[::-1][0:fileName[::-1].find('6')][::-1][:-4]\n",
    "                    continue # Skipping for time being\n",
    "\n",
    "        dataT[varName] = pd.read_csv(fileName, index_col=indexNum)  \n",
    "    dataL[city] = pd.concat(dataT, axis = 1)\n",
    "dataF = pd.concat(dataL, axis = 0)\n",
    "del dataT, dataL, city, fileList, fileName, varName"
   ]
  },
  {
   "cell_type": "code",
   "execution_count": 165,
   "metadata": {},
   "outputs": [
    {
     "data": {
      "text/plain": [
       "Index(['December', 'February', 'January', 'March', 'November', 'average',\n",
       "       'FogDays', 'FogHours', 'FogPer'],\n",
       "      dtype='object')"
      ]
     },
     "execution_count": 165,
     "metadata": {},
     "output_type": "execute_result"
    }
   ],
   "source": [
    "dataF.columns.get_level_values(1).unique()"
   ]
  }
 ],
 "metadata": {
  "kernelspec": {
   "display_name": "Python 3",
   "language": "python",
   "name": "python3"
  },
  "language_info": {
   "codemirror_mode": {
    "name": "ipython",
    "version": 3
   },
   "file_extension": ".py",
   "mimetype": "text/x-python",
   "name": "python",
   "nbconvert_exporter": "python",
   "pygments_lexer": "ipython3",
   "version": "3.7.6"
  }
 },
 "nbformat": 4,
 "nbformat_minor": 4
}
